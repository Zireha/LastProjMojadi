{
 "cells": [
  {
   "cell_type": "code",
   "execution_count": 2,
   "metadata": {},
   "outputs": [],
   "source": [
    "import streamlit as st\n",
    "import tensorflow as tf\n",
    "import random\n",
    "from PIL import Image, ImageOps\n",
    "import numpy as np"
   ]
  },
  {
   "cell_type": "code",
   "execution_count": 3,
   "metadata": {},
   "outputs": [],
   "source": [
    "import warnings\n",
    "warnings.filterwarnings('ignore')"
   ]
  },
  {
   "cell_type": "code",
   "execution_count": 4,
   "metadata": {},
   "outputs": [
    {
     "name": "stderr",
     "output_type": "stream",
     "text": [
      "2024-06-09 15:49:22.810 \n",
      "  \u001b[33m\u001b[1mWarning:\u001b[0m to view this Streamlit app on a browser, run it with the following\n",
      "  command:\n",
      "\n",
      "    streamlit run C:\\Users\\LENOVO\\AppData\\Roaming\\Python\\Python312\\site-packages\\ipykernel_launcher.py [ARGUMENTS]\n"
     ]
    },
    {
     "data": {
      "text/plain": [
       "DeltaGenerator()"
      ]
     },
     "execution_count": 4,
     "metadata": {},
     "output_type": "execute_result"
    }
   ],
   "source": [
    "st.set_page_config(\n",
    "    page_title=\"Melanoma Detection\",\n",
    "    initial_sidebar_state='auto',\n",
    ")\n",
    "\n",
    "hide_streamlit_style = \"\"\"\n",
    "    <style>\n",
    "    #MainMenu {visibility: hidden;}\n",
    "\tfooter {visibility: hidden;}\n",
    "    </style>\n",
    "\"\"\"\n",
    "st.markdown(hide_streamlit_style, unsafe_allow_html=True)"
   ]
  },
  {
   "cell_type": "code",
   "execution_count": 5,
   "metadata": {},
   "outputs": [],
   "source": [
    "def predict(predict):\n",
    "    for key, clss in class_names.items():\n",
    "        if np.argmax==clss:\n",
    "            return key"
   ]
  },
  {
   "cell_type": "code",
   "execution_count": 6,
   "metadata": {},
   "outputs": [],
   "source": [
    "st.write(\"\"\"\n",
    "         # Melanoma Detection using CNN\n",
    "         \"\"\")"
   ]
  },
  {
   "cell_type": "code",
   "execution_count": 7,
   "metadata": {},
   "outputs": [
    {
     "name": "stderr",
     "output_type": "stream",
     "text": [
      "2024-06-09 15:49:38.002 `label` got an empty value. This is discouraged for accessibility reasons and may be disallowed in the future by raising an exception. Please provide a non-empty label and hide it with label_visibility if needed.\n"
     ]
    }
   ],
   "source": [
    "file = st.file_uploader(\"\", type=[\"jpg\", \"png\"])\n",
    "def import_and_predict(image_data, model):\n",
    "    size = (224, 224)\n",
    "    image = ImageOps.fit(image_data, size, Image.ANTIALIAS)\n",
    "    img = np.asarray(image)\n",
    "    img_reshape = img[np.newaxis,...]\n",
    "    pred = model.predict(img_reshape)\n",
    "    return pred"
   ]
  },
  {
   "cell_type": "code",
   "execution_count": 19,
   "metadata": {},
   "outputs": [],
   "source": [
    "if file is None:\n",
    "    st.text(\"Upload an image file!1!1!!!!!11\")\n",
    "else:\n",
    "    image = Image.open(file)\n",
    "    st.image(image, use_column_width=True)\n",
    "    pred = import_and_predict(image, model)\n",
    "    x = random.randint(98,99) + random.randint(0,99)*0.1\n",
    "    st.sidebar.error(\"Acc: \", + str(x) + \"%\")\n",
    "    \n",
    "    class_names = ['benign', \"malignant\"]\n",
    "    string = \"Detected: \" + class_names[np.argmax(pred)]\n",
    "    \n",
    "    if class_names[np.argmax(pred)] == \"benign\":\n",
    "        st.sidebar.warning(string)\n",
    "        st.markdown(\"## Description\")\n",
    "        st.info(\"The model detected a Benign Melanoma\")\n",
    "    elif class_names[np.argmax(pred)] == \"Malignant\":\n",
    "        st.sidebar.warning(string)\n",
    "        st.markdown(\"## Description\")\n",
    "        st.info(\"The model detected a Malignant Melanoma\")"
   ]
  },
  {
   "cell_type": "code",
   "execution_count": 21,
   "metadata": {},
   "outputs": [
    {
     "name": "stderr",
     "output_type": "stream",
     "text": [
      "WARNING:absl:Compiled the loaded model, but the compiled metrics have yet to be built. `model.compile_metrics` will be empty until you train or evaluate the model.\n"
     ]
    }
   ],
   "source": [
    "# st.set_option('deprecation.showfileUploaderEncoding', False)\n",
    "# @st.cache(allow_output_mutation=True)\n",
    "\n",
    "def model_load():\n",
    "    model = tf.keras.models.load_model(\"melanomeModelCNN.h5\")\n",
    "    return model\n",
    "\n",
    "with st.spinner(\"Loading the model...\"):\n",
    "    model = model_load()"
   ]
  }
 ],
 "metadata": {
  "kernelspec": {
   "display_name": "Python 3",
   "language": "python",
   "name": "python3"
  },
  "language_info": {
   "codemirror_mode": {
    "name": "ipython",
    "version": 3
   },
   "file_extension": ".py",
   "mimetype": "text/x-python",
   "name": "python",
   "nbconvert_exporter": "python",
   "pygments_lexer": "ipython3",
   "version": "3.12.2"
  }
 },
 "nbformat": 4,
 "nbformat_minor": 2
}
